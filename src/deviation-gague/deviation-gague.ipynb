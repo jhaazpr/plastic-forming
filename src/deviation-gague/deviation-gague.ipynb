{
 "cells": [
  {
   "cell_type": "code",
   "execution_count": 19,
   "metadata": {
    "collapsed": true
   },
   "outputs": [],
   "source": [
    "import numpy as np\n",
    "import cv2\n",
    "import cv2.cv as cv\n",
    "\n",
    "img = cv2.imread('paper_reduced.png',0)\n",
    "img = cv2.medianBlur(img,5)\n",
    "cimg = cv2.cvtColor(img,cv2.COLOR_GRAY2BGR)\n",
    "\n",
    "IMAGE_DIMS = img.shape\n",
    "IMG_WIDTH = IMAGE_DIMS[1]\n",
    "IMG_HEIGHT = IMAGE_DIMS[0]\n",
    "TOP_LEFT = np.array([0, 0])\n",
    "TOP_RIGHT = np.array([IMG_WIDTH, 0])\n",
    "FONT = cv2.FONT_HERSHEY_SIMPLEX"
   ]
  },
  {
   "cell_type": "code",
   "execution_count": 20,
   "metadata": {
    "collapsed": true
   },
   "outputs": [],
   "source": [
    "circles = cv2.HoughCircles(img,cv.CV_HOUGH_GRADIENT,2,20,\n",
    "                           param1=50,param2=30,minRadius=0,maxRadius=40)"
   ]
  },
  {
   "cell_type": "code",
   "execution_count": 23,
   "metadata": {
    "collapsed": false
   },
   "outputs": [
    {
     "name": "stdout",
     "output_type": "stream",
     "text": [
      "(0, array([167, 159], dtype=uint16))\n",
      "(1, array([957, 721], dtype=uint16))\n",
      "(2, array([941, 159], dtype=uint16))\n",
      "(3, array([183, 709], dtype=uint16))\n"
     ]
    }
   ],
   "source": [
    "if circles is None:\n",
    "    pass\n",
    "else:\n",
    "    circles = np.uint16(np.around(circles))\n",
    "    # centers = circles[:, :, 0:2][0]\n",
    "    # print centers\n",
    "    # print np.linalg.norm(centers[0] - TOP_LEFT)\n",
    "\n",
    "    norms_top_left = []\n",
    "    norms_top_right = []\n",
    "    centers = []\n",
    "    principal_centers = []\n",
    "    principal_labels = ['TL', 'BR', 'TR', 'BL']\n",
    "\n",
    "    for i in circles[0,:]:\n",
    "        # draw the outer circle\n",
    "        center = np.array([i[0], i[1]])\n",
    "        center_tup = (i[0], i[1])\n",
    "        radius = i[2]\n",
    "        cv2.circle(cimg,center_tup,radius,(0,255,0),2)\n",
    "        # draw the center of the circle\n",
    "        cv2.circle(cimg,center_tup,2,(0,0,255),3)\n",
    "        # compute distances from the top left and top right points\n",
    "        centers.append(center)\n",
    "        norms_top_left.append(np.linalg.norm((i[0],i[1]) - TOP_LEFT))\n",
    "        norms_top_right.append(np.linalg.norm((i[0],i[1]) - TOP_RIGHT))\n",
    "\n",
    "    # Add principal points in this order [TL, BR, TR, BL]\n",
    "    principal_centers.append(centers[norms_top_left.index(min(norms_top_left))])\n",
    "    principal_centers.append(centers[norms_top_left.index(max(norms_top_left))])\n",
    "    principal_centers.append(centers[norms_top_right.index(min(norms_top_right))])\n",
    "    principal_centers.append(centers[norms_top_right.index(max(norms_top_right))])\n",
    "\n",
    "    for center in enumerate(principal_centers):\n",
    "        print center\n",
    "        cv2.circle(cimg,tuple(center[1]),2,(255,0,0),3)\n",
    "        cv2.putText(cimg, principal_labels[center[0]], tuple(center[1]), FONT, 1,(255,255,255),2)\n",
    "\n",
    "cv2.imshow('Deviation Gague',cimg)\n",
    "if cv2.waitKey(0) & 0xFF == ord('q'):\n",
    "    cv2.destroyAllWindows()\n",
    "\n",
    "\n",
    "# raw\n",
    "# processing (cleaning)\n",
    "# feature extraction (get the four points)\n",
    "# evaluation (I click the true points, this thing compares the distance)\n"
   ]
  },
  {
   "cell_type": "code",
   "execution_count": null,
   "metadata": {
    "collapsed": true
   },
   "outputs": [],
   "source": []
  }
 ],
 "metadata": {
  "kernelspec": {
   "display_name": "Python 2",
   "language": "python",
   "name": "python2"
  },
  "language_info": {
   "codemirror_mode": {
    "name": "ipython",
    "version": 2
   },
   "file_extension": ".py",
   "mimetype": "text/x-python",
   "name": "python",
   "nbconvert_exporter": "python",
   "pygments_lexer": "ipython2",
   "version": "2.7.11"
  }
 },
 "nbformat": 4,
 "nbformat_minor": 0
}
