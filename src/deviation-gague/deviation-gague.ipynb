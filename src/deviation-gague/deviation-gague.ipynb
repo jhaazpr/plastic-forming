{
 "cells": [
  {
   "cell_type": "code",
   "execution_count": 9,
   "metadata": {
    "collapsed": false
   },
   "outputs": [],
   "source": [
    "import numpy as np\n",
    "import cv2\n",
    "import cv2.cv as cv\n",
    "\n",
    "img = cv2.imread('paper_reduced.png',0)\n",
    "img = cv2.medianBlur(img,5)\n",
    "cimg = cv2.cvtColor(img,cv2.COLOR_GRAY2BGR)\n",
    "cimg_clone = cimg.copy()\n",
    "cv2.namedWindow('Deviation Gague')\n",
    "\n",
    "# Messy global overhead for click callback\n",
    "clicked_tracking_pts = []\n",
    "selecting = False\n",
    "\n",
    "IMAGE_DIMS = img.shape\n",
    "IMG_WIDTH = IMAGE_DIMS[1]\n",
    "IMG_HEIGHT = IMAGE_DIMS[0]\n",
    "TOP_LEFT = np.array([0, 0])\n",
    "TOP_RIGHT = np.array([IMG_WIDTH, 0])\n",
    "FONT = cv2.FONT_HERSHEY_SIMPLEX\n",
    "\n",
    "def click_set_tracking_point(event, x, y, flags, param):\n",
    "    # grab references to globals\n",
    "    global clicked_tracking_pts, selecting\n",
    "    \n",
    "    # if the left mouse button was clicked, record the starting\n",
    "    # (x, y) coordinates and indicate that cropping is being\n",
    "    # performed\n",
    "    if event == cv2.EVENT_LBUTTONDOWN:\n",
    "        clicked_tracking_pts = [(x, y)]\n",
    "        selecting = True\n",
    "        cv2.circle(cimg, (x, y) ,2,(255,0,0),3)\n",
    "\n",
    "    # check to see if the left mouse button was released\n",
    "    if event == cv2.EVENT_LBUTTONUP:\n",
    "        # record the ending (x, y) coordinates and indicate that\n",
    "        # the cropping operation is finished\n",
    "        clicked_tracking_pts.append((x, y))\n",
    "        selecting = False\n",
    "\n",
    "        # draw a rectangle around the region of interest\n",
    "        cv2.circle(cimg, (x, y) ,2,(255,0,0),3)\n",
    "        cv2.imshow('Deviation Gague', cimg)\n",
    "\n",
    "cv2.setMouseCallback('Deviation Gague', click_set_tracking_point)\n",
    "\n",
    "def find_circles():\n",
    "    circles = cv2.HoughCircles(img,cv.CV_HOUGH_GRADIENT,2,20,\n",
    "                           param1=50,param2=30,minRadius=0,maxRadius=40)\n",
    "    \n",
    "    if circles is None:\n",
    "        return\n",
    "    \n",
    "    circles = np.uint16(np.around(circles))\n",
    "    # centers = circles[:, :, 0:2][0]\n",
    "    # print centers\n",
    "    # print np.linalg.norm(centers[0] - TOP_LEFT)\n",
    "\n",
    "    norms_top_left = []\n",
    "    norms_top_right = []\n",
    "    centers = []\n",
    "    tracking_centers = []\n",
    "    tracking_labels = ['TL', 'BR', 'TR', 'BL']\n",
    "\n",
    "    for i in circles[0,:]:\n",
    "        # draw the outer circle\n",
    "        center = np.array([i[0], i[1]])\n",
    "        center_tup = (i[0], i[1])\n",
    "        radius = i[2]\n",
    "        cv2.circle(cimg,center_tup,radius,(0,255,0),2)\n",
    "        # draw the center of the circle\n",
    "        cv2.circle(cimg,center_tup,2,(0,0,255),3)\n",
    "        # compute distances from the top left and top right points\n",
    "        centers.append(center)\n",
    "        norms_top_left.append(np.linalg.norm((i[0],i[1]) - TOP_LEFT))\n",
    "        norms_top_right.append(np.linalg.norm((i[0],i[1]) - TOP_RIGHT))\n",
    "\n",
    "    # Add principal points in this order [TL, BR, TR, BL]\n",
    "    tracking_centers.append(centers[norms_top_left.index(min(norms_top_left))])\n",
    "    tracking_centers.append(centers[norms_top_left.index(max(norms_top_left))])\n",
    "    tracking_centers.append(centers[norms_top_right.index(min(norms_top_right))])\n",
    "    tracking_centers.append(centers[norms_top_right.index(max(norms_top_right))])\n",
    "\n",
    "    for center in enumerate(tracking_centers):\n",
    "        print center\n",
    "        cv2.circle(cimg,tuple(center[1]),2,(255,0,0),3)\n",
    "        cv2.putText(cimg, tracking_labels[center[0]], tuple(center[1]), FONT, 1,(255,255,255),2)"
   ]
  },
  {
   "cell_type": "code",
   "execution_count": 11,
   "metadata": {
    "collapsed": false
   },
   "outputs": [
    {
     "name": "stdout",
     "output_type": "stream",
     "text": [
      "(0, array([167, 159], dtype=uint16))\n",
      "(1, array([957, 721], dtype=uint16))\n",
      "(2, array([941, 159], dtype=uint16))\n",
      "(3, array([183, 709], dtype=uint16))\n"
     ]
    }
   ],
   "source": [
    "find_circles()\n",
    "cv2.imshow('Deviation-Gague', cimg)\n",
    "while True:\n",
    "    key = cv2.waitKey(1) & 0xFF\n",
    "    \n",
    "    if key == ord('r'):\n",
    "        cimg = cimg_clone\n",
    "        cv2.imshow('Deviation-Gague', cimg)\n",
    "    \n",
    "    if key == ord('e'):\n",
    "        pass\n",
    "    \n",
    "    if key == ord ('q'):\n",
    "        break\n",
    "    \n",
    "cv2.destroyAllWindows()"
   ]
  },
  {
   "cell_type": "code",
   "execution_count": null,
   "metadata": {
    "collapsed": true
   },
   "outputs": [],
   "source": []
  }
 ],
 "metadata": {
  "kernelspec": {
   "display_name": "Python 2",
   "language": "python",
   "name": "python2"
  },
  "language_info": {
   "codemirror_mode": {
    "name": "ipython",
    "version": 2
   },
   "file_extension": ".py",
   "mimetype": "text/x-python",
   "name": "python",
   "nbconvert_exporter": "python",
   "pygments_lexer": "ipython2",
   "version": "2.7.11"
  }
 },
 "nbformat": 4,
 "nbformat_minor": 0
}
